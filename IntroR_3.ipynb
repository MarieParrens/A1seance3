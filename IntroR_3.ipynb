{
 "cells": [
  {
   "cell_type": "markdown",
   "metadata": {},
   "source": [
    "### La condition \"Tant que\""
   ]
  },
  {
   "cell_type": "markdown",
   "metadata": {},
   "source": [
    "La condition \"tant que\" (\"while\" en anglais) permet d'exécuter une instruction tant qu'une condition est vraie. \n",
    "\n",
    "Dans l'exemple suivant, on veut sommer deux entiers (s et n) et cela tant que l'entier \"s\" est plus petit ou égal à 100. A chaque itération, on ajoute 1 à l'entier \"n\" et \"s\" prend une nouvelle valeur correspondant à la somme de \"s\" et de \"n\"."
   ]
  },
  {
   "cell_type": "code",
   "execution_count": null,
   "metadata": {},
   "outputs": [],
   "source": [
    "# initialisation des variables\n",
    "seuil <- 100\n",
    "n <- 0\n",
    "s <- 0\n",
    "# condition \"tant que\"\n",
    "while (s <= seuil) {\n",
    "  n <- n + 1\n",
    "  s <- s + n }\n",
    "# affichage du résultat\n",
    "print(c(n,s))"
   ]
  },
  {
   "cell_type": "markdown",
   "metadata": {},
   "source": [
    "**Exercice** : Considérons une plante de 1 an qui mesure 10 centimètres et qui grandit de 10 % tous les ans jusqu’à atteindre 2 mètres. Combien lui faut-il d'années pour atteindre 2 mètres ? A vous de coder le problème pour trouver la solution"
   ]
  },
  {
   "cell_type": "code",
   "execution_count": null,
   "metadata": {},
   "outputs": [],
   "source": []
  },
  {
   "cell_type": "markdown",
   "metadata": {},
   "source": [
    "### La condition IF"
   ]
  },
  {
   "cell_type": "markdown",
   "metadata": {},
   "source": [
    "L'instruction IF permet d'exécuter du code si une condition est remplie.\n",
    "\n",
    "Par exemple, on va écrire \"Hello\" que pour des nombres inférieurs à 5. Pour choisir ce nombre, on va utiliser la fonction runif() qui tire aléatoirement un nombre dans une distribution uniforme comprise entre un nombre min (1 pour nous) et max (10 pour nous). Selon le nombre choisi, le code retournera \"Hello\" ou rien ! Exécuter le code plusieur fois pour voir la différence."
   ]
  },
  {
   "cell_type": "code",
   "execution_count": null,
   "metadata": {},
   "outputs": [],
   "source": [
    "# nombre aléatoire\n",
    "x <- runif(1, min = 1, max = 10)\n",
    "print(x)\n",
    "# condition if\n",
    "if (x <5) {print(\"Hello\")}"
   ]
  },
  {
   "cell_type": "markdown",
   "metadata": {},
   "source": [
    "En utilisant la commande \"IF.... ELSE\", on peut ajouter une condition : si la condition est remplie, on exécute une instruction sinon (else) on en exécute une différente.\n",
    "\n",
    "Reprennons l'exemple précédent et ajoutons la condition else : si le nombre est supérieur ou égal à 5, on affiche \"bye\"."
   ]
  },
  {
   "cell_type": "code",
   "execution_count": null,
   "metadata": {},
   "outputs": [],
   "source": [
    "# nombre aléatoire\n",
    "x <- runif(1, min = 1, max = 10)\n",
    "print(x)\n",
    "# condition if\n",
    "if (x <5) {print(\"Hello\")} else \n",
    "{print(\"Bye\")}"
   ]
  },
  {
   "cell_type": "markdown",
   "metadata": {},
   "source": [
    "Attention, lorsque l’on fait des regroupements et qu’on utilise la structure if et else, il est nécessaire d’écrire le mot else sur la même ligne que la parenthèse fermante du groupe d’instructions à réaliser dans le cas où la condition du if est vérifiée."
   ]
  },
  {
   "cell_type": "markdown",
   "metadata": {},
   "source": [
    "**Exercice** : On va créer aléatoirement un nombre entier compris entre 1 et 10. L'objectif est de créer un code permettant à l'utilisateur de savoir si ce nombre est pair ou impair. Le code doit afficher le résultat."
   ]
  },
  {
   "cell_type": "markdown",
   "metadata": {},
   "source": [
    "Aide : pour créer aléatoirement un nombre entier compris entre 1 et 10, utiliser la fonction suivante : sample(x = 1:10, size = 1)"
   ]
  },
  {
   "cell_type": "code",
   "execution_count": null,
   "metadata": {},
   "outputs": [],
   "source": []
  },
  {
   "cell_type": "markdown",
   "metadata": {},
   "source": [
    "Les trois conditions (IF, FOR, WHILE) peuvent également être combinées pour traiter des problèmes plus complexes."
   ]
  },
  {
   "cell_type": "markdown",
   "metadata": {},
   "source": [
    "**Exercice (plus dur !)** : Créer deux vecteurs aléatoires \"u\" et \"v\" avec la fonction sample(). On veut savoir si, pour chaque terme, le résultat de \"u+v\" est divisible par 3 ou pas. Afficher clairement le résultat."
   ]
  },
  {
   "cell_type": "code",
   "execution_count": null,
   "metadata": {},
   "outputs": [],
   "source": []
  }
 ],
 "metadata": {
  "kernelspec": {
   "display_name": "R",
   "language": "R",
   "name": "ir"
  },
  "language_info": {
   "codemirror_mode": "r",
   "file_extension": ".r",
   "mimetype": "text/x-r-source",
   "name": "R",
   "pygments_lexer": "r",
   "version": "3.4.4"
  }
 },
 "nbformat": 4,
 "nbformat_minor": 4
}
